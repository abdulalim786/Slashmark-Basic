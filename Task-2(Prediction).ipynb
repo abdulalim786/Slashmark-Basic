{
  "cells": [
    {
      "cell_type": "code",
      "execution_count": null,
      "metadata": {
        "id": "k11PaDm02oEh"
      },
      "outputs": [],
      "source": [
        "import numpy as np\n",
        "import pandas as pd\n",
        "import matplotlib.pyplot as plt\n",
        "import seaborn as sns\n",
        "import mpl_toolkits\n",
        "%matplotlib inline\n",
        "from sklearn import ensemble"
      ]
    },
    {
      "cell_type": "code",
      "execution_count": null,
      "metadata": {
        "id": "lqi1sgkJ4jHB"
      },
      "outputs": [],
      "source": [
        "data = pd.read_csv(\"/content/kc_house_data.csv\")"
      ]
    },
    {
      "cell_type": "code",
      "execution_count": null,
      "metadata": {
        "id": "wwhEwZyR44ys"
      },
      "outputs": [],
      "source": [
        "data.head()"
      ]
    },
    {
      "cell_type": "code",
      "execution_count": null,
      "metadata": {
        "id": "xuXC1s2s47sz"
      },
      "outputs": [],
      "source": [
        "data.describe()"
      ]
    },
    {
      "cell_type": "code",
      "execution_count": null,
      "metadata": {
        "id": "2oixqGNR4-if"
      },
      "outputs": [],
      "source": [
        "data['bedrooms'].value_counts().plot(kind='bar')\n",
        "plt.title('number of Bedroom')\n",
        "plt.xlabel('Bedrooms')\n",
        "plt.ylabel('Count')\n",
        "sns.despine"
      ]
    },
    {
      "cell_type": "code",
      "execution_count": null,
      "metadata": {
        "id": "uCZ8ZH-C5Asd"
      },
      "outputs": [],
      "source": [
        "plt.figure(figsize=(10,10))\n",
        "sns.jointplot(x=data.lat.values, y=data.long.values, size=10)\n",
        "plt.ylabel('Longitude', fontsize=12)\n",
        "plt.xlabel('Latitude', fontsize=12)\n",
        "plt.show()\n",
        "\n",
        "sns.despine"
      ]
    },
    {
      "cell_type": "code",
      "execution_count": null,
      "metadata": {
        "id": "Kyb5bEqq5ChV"
      },
      "outputs": [],
      "source": [
        "plt.scatter(data.price,data.sqft_living)\n",
        "plt.title(\"Price vs Square Feet\")"
      ]
    },
    {
      "cell_type": "code",
      "execution_count": null,
      "metadata": {
        "id": "T-pikKA_5FHg"
      },
      "outputs": [],
      "source": [
        "plt.scatter(data.price,data.long)\n",
        "plt.title(\"Price vs Location of the area\")"
      ]
    },
    {
      "cell_type": "code",
      "execution_count": null,
      "metadata": {
        "id": "er3tfFk05IzT"
      },
      "outputs": [],
      "source": [
        "plt.scatter(data.price,data.lat)\n",
        "plt.xlabel(\"Price\")\n",
        "plt.ylabel('Latitude')\n",
        "plt.title(\"Latitude vs Price\")"
      ]
    },
    {
      "cell_type": "code",
      "execution_count": null,
      "metadata": {
        "id": "eeAsIgZK5Kh8"
      },
      "outputs": [],
      "source": [
        "plt.scatter(data.bedrooms,data.price)\n",
        "plt.title(\"Bedroom and Price \")\n",
        "plt.xlabel(\"Bedrooms\")\n",
        "plt.ylabel(\"Price\")\n",
        "plt.show()\n",
        "sns.despine"
      ]
    },
    {
      "cell_type": "code",
      "execution_count": null,
      "metadata": {
        "id": "hsFd_uyW5L6j"
      },
      "outputs": [],
      "source": [
        "plt.scatter((data['sqft_living']+data['sqft_basement']),data['price'])"
      ]
    },
    {
      "cell_type": "code",
      "execution_count": null,
      "metadata": {
        "id": "6jsSQEdw5Sr3"
      },
      "outputs": [],
      "source": [
        "plt.scatter(data.waterfront,data.price)\n",
        "plt.title(\"Waterfront vs Price ( 0= no waterfront)\")"
      ]
    },
    {
      "cell_type": "code",
      "execution_count": null,
      "metadata": {
        "id": "5HLAURnb5VnF"
      },
      "outputs": [],
      "source": [
        "train1 = data.drop(['id', 'price'],axis=1)"
      ]
    },
    {
      "cell_type": "code",
      "execution_count": null,
      "metadata": {
        "id": "69qfq0Pc5XV_"
      },
      "outputs": [],
      "source": [
        "train1.head()"
      ]
    },
    {
      "cell_type": "code",
      "execution_count": null,
      "metadata": {
        "id": "vgFBl3E55ZWv"
      },
      "outputs": [],
      "source": [
        "data.floors.value_counts().plot(kind='bar')"
      ]
    },
    {
      "cell_type": "code",
      "execution_count": null,
      "metadata": {
        "id": "puze94Am5a1k"
      },
      "outputs": [],
      "source": [
        "plt.scatter(data.floors,data.price)"
      ]
    },
    {
      "cell_type": "code",
      "execution_count": null,
      "metadata": {
        "id": "5x2Aroej5enm"
      },
      "outputs": [],
      "source": [
        "plt.scatter(data.condition,data.price)"
      ]
    },
    {
      "cell_type": "code",
      "execution_count": null,
      "metadata": {
        "id": "gcT6ETJL5gNj"
      },
      "outputs": [],
      "source": [
        "plt.scatter(data.zipcode,data.price)\n",
        "plt.title(\"Which is the pricey location by zipcode?\")"
      ]
    },
    {
      "cell_type": "code",
      "execution_count": null,
      "metadata": {
        "id": "DTDriB0B5iiY"
      },
      "outputs": [],
      "source": [
        "from sklearn.linear_model import LinearRegression"
      ]
    },
    {
      "cell_type": "code",
      "execution_count": null,
      "metadata": {
        "id": "cekdSSiW5kbU"
      },
      "outputs": [],
      "source": [
        "reg = LinearRegression()"
      ]
    },
    {
      "cell_type": "code",
      "execution_count": null,
      "metadata": {
        "id": "wOdifVPr5lwF"
      },
      "outputs": [],
      "source": [
        "labels = data['price']\n",
        "conv_dates = [1 if values == 2014 else 0 for values in data.date ]\n",
        "data['date'] = conv_dates\n",
        "train1 = data.drop(['id', 'price'],axis=1)"
      ]
    },
    {
      "cell_type": "code",
      "execution_count": null,
      "metadata": {
        "id": "mRlgHyr65ni7"
      },
      "outputs": [],
      "source": [
        "from sklearn.model_selection import train_test_split"
      ]
    },
    {
      "cell_type": "code",
      "execution_count": null,
      "metadata": {
        "id": "864I_gr75o2t"
      },
      "outputs": [],
      "source": [
        "x_train , x_test , y_train , y_test = train_test_split(train1 , labels , test_size = 0.10,random_state =2)"
      ]
    },
    {
      "cell_type": "code",
      "execution_count": null,
      "metadata": {
        "id": "a2MZPszv5r7w"
      },
      "outputs": [],
      "source": [
        "reg.fit(x_train,y_train)"
      ]
    },
    {
      "cell_type": "code",
      "execution_count": null,
      "metadata": {
        "id": "RZ323psO5zj3"
      },
      "outputs": [],
      "source": [
        "reg.score(x_test,y_test)"
      ]
    },
    {
      "cell_type": "code",
      "execution_count": null,
      "metadata": {
        "id": "Kb9_VSRm51mD"
      },
      "outputs": [],
      "source": [
        "from sklearn import ensemble\n",
        "clf = ensemble.GradientBoostingRegressor(n_estimators = 400, max_depth = 5, min_samples_split = 2,learning_rate = 0.1)"
      ]
    },
    {
      "cell_type": "code",
      "execution_count": null,
      "metadata": {
        "id": "m8wVHbDP54fF"
      },
      "outputs": [],
      "source": [
        "clf.fit(x_train, y_train)"
      ]
    },
    {
      "cell_type": "code",
      "execution_count": null,
      "metadata": {
        "id": "GJGOj3j9551V"
      },
      "outputs": [],
      "source": [
        "clf.score(x_test,y_test)"
      ]
    },
    {
      "cell_type": "code",
      "execution_count": null,
      "metadata": {
        "id": "52snbYrG80EU"
      },
      "outputs": [],
      "source": [
        "from sklearn.preprocessing import scale\n",
        "from sklearn.decomposition import PCA"
      ]
    },
    {
      "cell_type": "code",
      "execution_count": null,
      "metadata": {
        "id": "RZtwKThR9MvO"
      },
      "outputs": [],
      "source": [
        "pca=PCA()"
      ]
    },
    {
      "cell_type": "code",
      "execution_count": null,
      "metadata": {
        "id": "emk8bP2N9VLe"
      },
      "outputs": [],
      "source": [
        "\n",
        "pca.fit_transform(scale(train1))"
      ]
    },
    {
      "cell_type": "code",
      "execution_count": null,
      "metadata": {
        "id": "Y6KvRXL79W57"
      },
      "outputs": [],
      "source": []
    }
  ],
  "metadata": {
    "accelerator": "GPU",
    "colab": {
      "gpuType": "T4",
      "private_outputs": true,
      "provenance": []
    },
    "kernelspec": {
      "display_name": "Python 3",
      "name": "python3"
    },
    "language_info": {
      "name": "python"
    }
  },
  "nbformat": 4,
  "nbformat_minor": 0
}
